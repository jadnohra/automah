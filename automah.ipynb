{
 "cells": [
  {
   "cell_type": "code",
   "execution_count": 193,
   "metadata": {},
   "outputs": [],
   "source": [
    "import tfo_parser_ulambda as ul\n",
    "import IPython.display\n",
    "\n",
    "g_parser = ul.parser()\n",
    "\n",
    "def f_pretty(txt):\n",
    "    return g_parser.parse(txt).pretty()\n",
    "\n",
    "f_list_flatten = lambda lists: reduce(lambda a,b: a+b, lists)\n",
    "f_latex_std_abstr = lambda children_out: f_list_flatten((['(', '\\\\lambda'], [children_out[0]], ['.'], children_out[1:], [')']))\n",
    "f_latex_std_appl = lambda children_out: f_list_flatten((['['], children_out, [']']))\n",
    "f_latex_2d_abstr = lambda children_out: f_list_flatten((['\\dfrac{'], [children_out[0]], ['}{'], children_out[1:], ['}']))\n",
    "f_latex_2d_appl = lambda children_out: children_out\n",
    "g_latex_style_std = {}\n",
    "g_latex_style_2d = {'abstr':f_latex_2d_abstr, 'appl':f_latex_2d_appl}\n",
    "\n",
    "def f_latex(txt, style = {}):\n",
    "    func_abstr = style.get('abstr', f_latex_std_abstr)\n",
    "    func_appl = style.get('appl', f_latex_std_appl)\n",
    "    def recurse(node):\n",
    "        out = []\n",
    "        if type(node) == ul.lark.tree.Tree:\n",
    "            children_out = f_list_flatten([recurse(x) for x in node.children])\n",
    "            if node.data == 'abstraction':\n",
    "                out = func_abstr(children_out)\n",
    "            elif node.data == 'application':\n",
    "                out = func_appl(children_out)\n",
    "            else:\n",
    "                out = children_out\n",
    "        else:\n",
    "            out.append(str(node))\n",
    "        return out\n",
    "    return ' '.join(recurse(g_parser.parse(txt)))\n",
    "\n",
    "def f_disp_latex(txt, style = {}):\n",
    "    IPython.display.display(IPython.display.Latex('${}$'.format(f_latex(txt, style))))"
   ]
  },
  {
   "cell_type": "code",
   "execution_count": 194,
   "metadata": {},
   "outputs": [
    {
     "data": {
      "text/latex": [
       "$( \\lambda x . [ y z ] )$"
      ],
      "text/plain": [
       "<IPython.core.display.Latex object>"
      ]
     },
     "metadata": {},
     "output_type": "display_data"
    },
    {
     "data": {
      "text/latex": [
       "$\\dfrac{ x }{ x z }$"
      ],
      "text/plain": [
       "<IPython.core.display.Latex object>"
      ]
     },
     "metadata": {},
     "output_type": "display_data"
    },
    {
     "data": {
      "text/latex": [
       "$( \\lambda x . [ y z ] )$"
      ],
      "text/plain": [
       "<IPython.core.display.Latex object>"
      ]
     },
     "metadata": {},
     "output_type": "display_data"
    },
    {
     "data": {
      "text/latex": [
       "$\\dfrac{ x }{ y z }$"
      ],
      "text/plain": [
       "<IPython.core.display.Latex object>"
      ]
     },
     "metadata": {},
     "output_type": "display_data"
    }
   ],
   "source": [
    "display(IPython.display.Latex('${}$'.format(f_latex('[x.(y z)]'))))\n",
    "display(IPython.display.Latex('${}$'.format(f_latex('[x.(x z)]', g_latex_style_2d))))\n",
    "f_disp_latex('[x.(y z)]')\n",
    "f_disp_latex('[x.(y z)]', g_latex_style_2d)"
   ]
  },
  {
   "cell_type": "code",
   "execution_count": null,
   "metadata": {
    "collapsed": true
   },
   "outputs": [],
   "source": []
  },
  {
   "cell_type": "code",
   "execution_count": null,
   "metadata": {
    "collapsed": true
   },
   "outputs": [],
   "source": []
  }
 ],
 "metadata": {
  "kernelspec": {
   "display_name": "Python 2",
   "language": "python",
   "name": "python2"
  },
  "language_info": {
   "codemirror_mode": {
    "name": "ipython",
    "version": 2
   },
   "file_extension": ".py",
   "mimetype": "text/x-python",
   "name": "python",
   "nbconvert_exporter": "python",
   "pygments_lexer": "ipython2",
   "version": "2.7.13"
  }
 },
 "nbformat": 4,
 "nbformat_minor": 1
}
