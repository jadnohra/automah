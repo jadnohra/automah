{
 "cells": [
  {
   "cell_type": "code",
   "execution_count": 2,
   "metadata": {
    "collapsed": true
   },
   "outputs": [],
   "source": [
    "%load_ext tikzmagic"
   ]
  },
  {
   "cell_type": "code",
   "execution_count": 3,
   "metadata": {
    "collapsed": true
   },
   "outputs": [],
   "source": [
    "import tfo_parser_ulambda as ul\n",
    "import IPython.display\n",
    "\n",
    "\n",
    "g_parser = ul.parser()\n",
    "\n",
    "def f_pretty(txt):\n",
    "    return g_parser.parse(txt).pretty()\n",
    "\n",
    "f_list_flatten = lambda lists: reduce(lambda a,b: a+b, lists)\n",
    "f_latex_std_abstr = lambda children_out: f_list_flatten((['(', '\\\\lambda'], [children_out[0]], ['.'], children_out[1:], [')']))\n",
    "f_latex_std_appl = lambda children_out: f_list_flatten((['['], children_out, [']']))\n",
    "f_latex_2d_abstr = lambda children_out: f_list_flatten((['\\dfrac{'], [children_out[0]], ['}{'], children_out[1:], ['}']))\n",
    "f_latex_2d_appl = lambda children_out: children_out\n",
    "g_latex_style_std = {}\n",
    "g_latex_style_2d = {'abstr':f_latex_2d_abstr, 'appl':f_latex_2d_appl}\n",
    "\n",
    "def f_latex(txt, style = {}):\n",
    "    func_abstr = style.get('abstr', f_latex_std_abstr)\n",
    "    func_appl = style.get('appl', f_latex_std_appl)\n",
    "    def recurse(node):\n",
    "        if type(node) == ul.lark.tree.Tree:\n",
    "            if node.data not in ['variable', 'term']:\n",
    "                children_out = f_list_flatten([recurse(x) for x in node.children])\n",
    "                if node.data == 'abstraction':\n",
    "                    return func_abstr(children_out)\n",
    "                elif node.data == 'application':\n",
    "                    return func_appl(children_out)\n",
    "            else:\n",
    "                return recurse(node.children[0])\n",
    "        else:\n",
    "            return [str(node)]\n",
    "    return ' '.join(recurse(g_parser.parse(txt)))\n",
    "\n",
    "def f_disp_latex(txt, style = {}):\n",
    "    IPython.display.display(IPython.display.Latex('${}$'.format(f_latex(txt, style))))\n",
    "\n"
   ]
  },
  {
   "cell_type": "code",
   "execution_count": 5,
   "metadata": {},
   "outputs": [
    {
     "data": {
      "text/latex": [
       "$( \\lambda x . [ y z ] )$"
      ],
      "text/plain": [
       "<IPython.core.display.Latex object>"
      ]
     },
     "metadata": {},
     "output_type": "display_data"
    },
    {
     "data": {
      "text/latex": [
       "$\\dfrac{ x }{ x z }$"
      ],
      "text/plain": [
       "<IPython.core.display.Latex object>"
      ]
     },
     "metadata": {},
     "output_type": "display_data"
    },
    {
     "data": {
      "text/latex": [
       "$( \\lambda x . [ y z ] )$"
      ],
      "text/plain": [
       "<IPython.core.display.Latex object>"
      ]
     },
     "metadata": {},
     "output_type": "display_data"
    },
    {
     "data": {
      "text/latex": [
       "$\\dfrac{ x }{ y z }$"
      ],
      "text/plain": [
       "<IPython.core.display.Latex object>"
      ]
     },
     "metadata": {},
     "output_type": "display_data"
    }
   ],
   "source": [
    "display(IPython.display.Latex('${}$'.format(f_latex('[x.[y z]]'))))\n",
    "display(IPython.display.Latex('${}$'.format(f_latex('[x.[x z]]', g_latex_style_2d))))\n",
    "f_disp_latex('[x.[y z]]')\n",
    "f_disp_latex('[x.[y z]]', g_latex_style_2d)"
   ]
  },
  {
   "cell_type": "code",
   "execution_count": 38,
   "metadata": {},
   "outputs": [
    {
     "name": "stdout",
     "output_type": "stream",
     "text": [
      "\\node{application} child{node{y}} child{node{z}} ;\n",
      "\\node{abstraction} child{node{x}} child{{node{application} child{node{y}} child{node{z}} }} ;\n"
     ]
    }
   ],
   "source": [
    "def f_tree(txt):\n",
    "    def recurse(node):\n",
    "        if type(node) == ul.lark.tree.Tree:\n",
    "            if node.data not in ['variable', 'term']:\n",
    "                return {'type':node.data, 'kids':[recurse(x) for x in node.children]}\n",
    "            else:\n",
    "                return recurse(node.children[0])\n",
    "        else:\n",
    "            return {'type':'var', 'name' : str(node)}\n",
    "    root = recurse(g_parser.parse(txt))\n",
    "    return root\n",
    "\n",
    "def f_tikz_tree(txt):\n",
    "    make_node = lambda name: 'node{{{}}}'.format(name)\n",
    "    make_child = lambda node: 'child{{{}}}'.format(node)\n",
    "    make_kid_nodes = lambda kids: ' '.join([make_child(kid) for kid in kids])\n",
    "    def recurse(node, pars=('{', '}')):\n",
    "        if node['type'] not in ['var']:\n",
    "            children_out = [recurse(x) for x in node['kids']]\n",
    "            return ' '.join([ ''.join([pars[0], make_node(node['type'])]), make_kid_nodes(children_out), pars[1]])\n",
    "        else:\n",
    "            return make_node(node['name'])\n",
    "    tikz_code = recurse(f_tree(txt), ('\\\\',';'))\n",
    "    return tikz_code\n",
    "\n",
    "def f_disp_tikz_tree(txt, style = {}):\n",
    "    IPython.get_ipython().run_cell('%%tikz\\n' + f_tikz_tree(txt))\n",
    "    \n",
    "#f_tree('[x.(y z)]')\n",
    "#f_tikz_tree('[x.(y z)]')\n",
    "#f_tikz_tree('[x y]')\n",
    "#f_tikz_tree('[x. y]')\n",
    "print f_tikz_tree('[y z]')\n",
    "\n",
    "print f_tikz_tree('[x. [y z]]')"
   ]
  },
  {
   "cell_type": "code",
   "execution_count": 41,
   "metadata": {},
   "outputs": [
    {
     "data": {
      "image/png": "[encoded data removed]"
     },
     "metadata": {},
     "output_type": "display_data"
    }
   ],
   "source": [
    "f_disp_tikz_tree('[x. [y [z. w]]]')"
   ]
  },
  {
   "cell_type": "code",
   "execution_count": 96,
   "metadata": {},
   "outputs": [],
   "source": [
    "if False:\n",
    "    %%tikz\n",
    "    IPython.display.display('''\n",
    "    \\node {root}\n",
    "        child {node {left}\n",
    "          child {node {lleft}}\n",
    "          child {node {rleft}}\n",
    "        }\n",
    "        child {node {right}\n",
    "        child {node {lright}}\n",
    "          child {node {rright}}\n",
    "        };''')"
   ]
  },
  {
   "cell_type": "code",
   "execution_count": null,
   "metadata": {
    "collapsed": true
   },
   "outputs": [],
   "source": []
  }
 ],
 "metadata": {
  "kernelspec": {
   "display_name": "Python 2",
   "language": "python",
   "name": "python2"
  },
  "language_info": {
   "codemirror_mode": {
    "name": "ipython",
    "version": 2
   },
   "file_extension": ".py",
   "mimetype": "text/x-python",
   "name": "python",
   "nbconvert_exporter": "python",
   "pygments_lexer": "ipython2",
   "version": "2.7.13"
  }
 },
 "nbformat": 4,
 "nbformat_minor": 1
}
